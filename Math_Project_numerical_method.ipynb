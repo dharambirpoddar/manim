{
  "nbformat": 4,
  "nbformat_minor": 0,
  "metadata": {
    "colab": {
      "name": "Math_Project.ipynb",
      "provenance": [],
      "collapsed_sections": [],
      "toc_visible": true,
      "authorship_tag": "ABX9TyNU0kX4hJFHp1n8KH10z22m",
      "include_colab_link": true
    },
    "kernelspec": {
      "display_name": "Python 3",
      "name": "python3"
    }
  },
  "cells": [
    {
      "cell_type": "markdown",
      "metadata": {
        "id": "view-in-github",
        "colab_type": "text"
      },
      "source": [
        "<a href=\"https://colab.research.google.com/github/dharambirpoddar/manim/blob/master/Math_Project_numerical_method.ipynb\" target=\"_parent\"><img src=\"https://colab.research.google.com/assets/colab-badge.svg\" alt=\"Open In Colab\"/></a>"
      ]
    },
    {
      "cell_type": "markdown",
      "metadata": {
        "id": "RRHqwhm5ON1D"
      },
      "source": [
        "# Bisection"
      ]
    },
    {
      "cell_type": "code",
      "metadata": {
        "id": "vcAOMyb8fDZD",
        "colab": {
          "base_uri": "https://localhost:8080/"
        },
        "outputId": "5cd667dd-972e-4f06-ef78-7de8c40708eb"
      },
      "source": [
        "def f(x):\n",
        "    return x*x*x-2*x+1\n",
        "\n",
        "x0=-10\n",
        "x1=10\n",
        "e=0.0001\n",
        "\n",
        "\n",
        "def bisection(x0,x1,e):\n",
        "    step = 1\n",
        "    \n",
        "    condition = True\n",
        "    while condition:\n",
        "        x2 = (x0 + x1)/2\n",
        "        print('step-%d, x2 = %0.6f and f(x2) = %0.6f' % (step, x2, f(x2)))\n",
        "\n",
        "        if f(x0) * f(x2) < 0:\n",
        "            x1 = x2\n",
        "        else:\n",
        "            x0 = x2\n",
        "        \n",
        "        step = step + 1\n",
        "        condition = abs(f(x2)) > e\n",
        "\n",
        "    print('\\nRequired Root is : %0.8f' % x2)\n",
        "\n",
        "\n",
        "if f(x0) * f(x1) > 0.0:\n",
        "    print('Try Again with different guess values.')\n",
        "else:\n",
        "    bisection(x0,x1,e)"
      ],
      "execution_count": null,
      "outputs": [
        {
          "output_type": "stream",
          "text": [
            "step-1, x2 = 0.000000 and f(x2) = 1.000000\n",
            "step-2, x2 = -5.000000 and f(x2) = -114.000000\n",
            "step-3, x2 = -2.500000 and f(x2) = -9.625000\n",
            "step-4, x2 = -1.250000 and f(x2) = 1.546875\n",
            "step-5, x2 = -1.875000 and f(x2) = -1.841797\n",
            "step-6, x2 = -1.562500 and f(x2) = 0.310303\n",
            "step-7, x2 = -1.718750 and f(x2) = -0.639862\n",
            "step-8, x2 = -1.640625 and f(x2) = -0.134739\n",
            "step-9, x2 = -1.601562 and f(x2) = 0.095113\n",
            "step-10, x2 = -1.621094 and f(x2) = -0.017958\n",
            "step-11, x2 = -1.611328 and f(x2) = 0.039039\n",
            "step-12, x2 = -1.616211 and f(x2) = 0.010656\n",
            "step-13, x2 = -1.618652 and f(x2) = -0.003622\n",
            "step-14, x2 = -1.617432 and f(x2) = 0.003524\n",
            "step-15, x2 = -1.618042 and f(x2) = -0.000047\n",
            "\n",
            "Required Root is : -1.61804199\n"
          ],
          "name": "stdout"
        }
      ]
    },
    {
      "cell_type": "markdown",
      "metadata": {
        "id": "L6CRfmGEOX7I"
      },
      "source": [
        "# Newton Raphson"
      ]
    },
    {
      "cell_type": "code",
      "metadata": {
        "colab": {
          "base_uri": "https://localhost:8080/"
        },
        "id": "dc2OyKiNO1te",
        "outputId": "710884b3-4c60-4f7a-fd44-d5a8b6048a79"
      },
      "source": [
        "def f(x):\n",
        "  return x**3 - 5*x - 9\n",
        "def f_(x):\n",
        "  return 3*x**2 - 5\n",
        "\n",
        "x=0\n",
        "step=0\n",
        "cond=True\n",
        "\n",
        "while (cond):\n",
        "  h=(f(x)/f_(x))\n",
        "  x=x-h\n",
        "  step=step+1\n",
        "  print(f' step {step} update {h}  root {x} ')\n",
        "  \n",
        "  cond=abs(h)>0.01\n",
        "\n",
        "\n"
      ],
      "execution_count": null,
      "outputs": [
        {
          "output_type": "stream",
          "text": [
            " step 1 update 1.8  root -1.8 \n",
            " step 2 update -1.235593220338983  root -0.564406779661017 \n",
            " step 3 update 1.5720163566203027  root -2.1364231362813197 \n",
            " step 4 update -0.9282469561066012  root -1.2081761801747186 \n",
            " step 5 update 7.605807668548183  root -8.813983848722902 \n",
            " step 6 update -2.848631986074414  root -5.965351862648488 \n",
            " step 7 update -1.881484176795711  root -4.083867685852777 \n",
            " step 8 update -1.2588577349936152  root -2.8250099508591617 \n",
            " step 9 update -0.9196713100069444  root -1.9053386408522175 \n",
            " step 10 update -1.0847641235859509  root -0.8205745172662666 \n",
            " step 11 update 1.8287602830767102  root -2.649334800342977 \n",
            " step 12 update -0.8936294298050802  root -1.7557053705378967 \n",
            " step 13 update -1.3262935738320705  root -0.4294117967058262 \n",
            " step 14 update 1.5588954805826176  root -1.9883072772884438 \n",
            " step 15 update -1.0085818276399692  root -0.9797254496484746 \n",
            " step 16 update 2.377730778012579  root -3.3574562276610536 \n",
            " step 17 update -1.0431039125147794  root -2.314352315146274 \n",
            " step 18 update -0.8875885851327944  root -1.4267637300134797 \n",
            " step 19 update -4.309606036814128  root 2.8828423068006486 \n",
            " step 20 update 0.02731520718403546  root 2.855527099616613 \n",
            " step 21 update 0.0003305122006407224  root 2.8551965874159726 \n"
          ],
          "name": "stdout"
        }
      ]
    },
    {
      "cell_type": "markdown",
      "metadata": {
        "id": "OGoiFR1L106B"
      },
      "source": [
        "# Gauss elimination with partial pivoting"
      ]
    },
    {
      "cell_type": "code",
      "metadata": {
        "id": "ZAEYoMIV2FSf",
        "colab": {
          "base_uri": "https://localhost:8080/"
        },
        "outputId": "4f828fff-5ac2-41d4-d19c-f0b3e962644c"
      },
      "source": [
        "import numpy as np\n",
        "import sys\n",
        "n = int(input('Enter number of unknowns: '))\n",
        "\n",
        "\n",
        "a = np.zeros((n,n+1))\n",
        "x = np.zeros(n)\n",
        "\n",
        "# Reading augmented matrix coefficients\n",
        "print('Enter Augmented Matrix Coefficients:')\n",
        "for i in range(n):\n",
        "    for j in range(n+1):\n",
        "        a[i][j] = float(input( 'a['+str(i)+']['+ str(j)+']='))\n",
        "\n",
        "# Applying Gauss Elimination\n",
        "for i in range(n):\n",
        "    if a[i][i] == 0.0:\n",
        "        sys.exit('Divide by zero detected!')\n",
        "        \n",
        "    for j in range(i+1, n):\n",
        "        ratio = a[j][i]/a[i][i]\n",
        "        \n",
        "        for k in range(n+1):\n",
        "            a[j][k] = a[j][k] - ratio * a[i][k]\n",
        "\n",
        "# Back Substitution\n",
        "x[n-1] = a[n-1][n]/a[n-1][n-1]\n",
        "\n",
        "for i in range(n-2,-1,-1):\n",
        "    x[i] = a[i][n]\n",
        "    \n",
        "    for j in range(i+1,n):\n",
        "        x[i] = x[i] - a[i][j]*x[j]\n",
        "    \n",
        "    x[i] = x[i]/a[i][i]\n",
        "\n",
        "# Displaying solution\n",
        "print('\\nRequired solution is: ')\n",
        "for i in range(n):\n",
        "    print('X%d = %0.2f' %(i,x[i]), end = '\\t')\n",
        "\n"
      ],
      "execution_count": null,
      "outputs": [
        {
          "output_type": "stream",
          "text": [
            "Enter number of unknowns: 2\n",
            "Enter Augmented Matrix Coefficients:\n",
            "a[0][0]=1\n",
            "a[0][1]=2\n",
            "a[0][2]=6\n",
            "a[1][0]=2\n",
            "a[1][1]=6\n",
            "a[1][2]=5\n",
            "\n",
            "Required solution is: \n",
            "X0 = 13.00\tX1 = -3.50\t"
          ],
          "name": "stdout"
        }
      ]
    },
    {
      "cell_type": "markdown",
      "metadata": {
        "id": "2Yo8lM4J3eNT"
      },
      "source": [
        "# Gauss Seidel Method"
      ]
    },
    {
      "cell_type": "code",
      "metadata": {
        "colab": {
          "base_uri": "https://localhost:8080/"
        },
        "id": "qJL-NJa44hqc",
        "outputId": "4e0321f9-c16e-4bbb-cbfc-f8e0a62efa2e"
      },
      "source": [
        "def seidel(a, x ,b):        \n",
        "    n = len(a)                    \n",
        "    for j in range(0, n):         \n",
        "        # temp variable d to store b[j] \n",
        "        d = b[j]                   \n",
        "          \n",
        "        # calculate xi, yi, zi \n",
        "        for i in range(0, n):      \n",
        "            if(j != i): \n",
        "                d-=a[j][i] * x[i] \n",
        "        # updating the value of our solution         \n",
        "        x[j] = d / a[j][j] \n",
        "    # returning our updated solution            \n",
        "    return x     \n",
        "   \n",
        "# int(input())input as number of variable to be solved                 \n",
        "n = 3                              \n",
        "a = []                             \n",
        "b = []         \n",
        "# initial solution depending                      \n",
        "x = [0, 0, 0]    #initial guess                   \n",
        "a = [[4, 1, 2],[3, 5, 1],[1, 1, 3]] \n",
        "b = [4,7,3] \n",
        "print(x) \n",
        "print(a)\n",
        "  \n",
        "#loop run for m times depending on m the error value \n",
        "for i in range(0, 5):             \n",
        "    x = seidel(a, x, b) \n",
        "    #print each time the updated solution \n",
        "    print(x)                     \n",
        "\n",
        "\n",
        "\n",
        "\n"
      ],
      "execution_count": null,
      "outputs": [
        {
          "output_type": "stream",
          "text": [
            "[0, 0, 0]\n",
            "[[4, 1, 2], [3, 5, 1], [1, 1, 3]]\n",
            "[1.0, 0.8, 0.39999999999999997]\n",
            "[0.6000000000000001, 0.9599999999999997, 0.48000000000000004]\n",
            "[0.52, 0.9919999999999998, 0.49600000000000005]\n",
            "[0.504, 0.9983999999999998, 0.4992000000000001]\n",
            "[0.5008, 0.99968, 0.49984]\n"
          ],
          "name": "stdout"
        }
      ]
    },
    {
      "cell_type": "markdown",
      "metadata": {
        "id": "NUR39IziC3RF"
      },
      "source": [
        "# Trapizoidal"
      ]
    },
    {
      "cell_type": "code",
      "metadata": {
        "colab": {
          "base_uri": "https://localhost:8080/"
        },
        "id": "5eDodzW4C8A_",
        "outputId": "d14aed1c-2975-44ed-e155-e73f984d7011"
      },
      "source": [
        "import numpy as np\n",
        "\n",
        "def f(x):\n",
        "  return 1/(1+x)\n",
        "\n",
        "#input section\n",
        "a=0\n",
        "b=1\n",
        "n=10\n",
        "\n",
        "\n",
        "h=(b-a)/n\n",
        "arr=[]\n",
        "for i in range (n+1):\n",
        "  k=a+h*i\n",
        "  f(k)\n",
        "  print(f'y{i}= { f(k)}')\n",
        "  arr=np.append(arr,f(k))\n",
        "\n",
        "print(arr)\n",
        "m=0\n",
        "\n",
        "for i in range(1,n):\n",
        "  m=m+arr[i]\n",
        "\n",
        "\n",
        "result=(h/2)*(float(arr[0])+float(arr[n])+(2*float(m)))\n",
        "\n",
        "print(f'integration = {result}')"
      ],
      "execution_count": null,
      "outputs": [
        {
          "output_type": "stream",
          "text": [
            "y0= 1.0\n",
            "y1= 0.9090909090909091\n",
            "y2= 0.8333333333333334\n",
            "y3= 0.7692307692307692\n",
            "y4= 0.7142857142857143\n",
            "y5= 0.6666666666666666\n",
            "y6= 0.625\n",
            "y7= 0.588235294117647\n",
            "y8= 0.5555555555555556\n",
            "y9= 0.5263157894736842\n",
            "y10= 0.5\n",
            "[1.         0.90909091 0.83333333 0.76923077 0.71428571 0.66666667\n",
            " 0.625      0.58823529 0.55555556 0.52631579 0.5       ]\n",
            "integration = 0.6937714031754278\n"
          ],
          "name": "stdout"
        }
      ]
    },
    {
      "cell_type": "code",
      "metadata": {
        "id": "p4l0T5dp4k-S"
      },
      "source": [
        ""
      ],
      "execution_count": null,
      "outputs": []
    },
    {
      "cell_type": "markdown",
      "metadata": {
        "id": "kcB142zG4ldn"
      },
      "source": [
        "# simpson 1/3"
      ]
    },
    {
      "cell_type": "code",
      "metadata": {
        "colab": {
          "base_uri": "https://localhost:8080/"
        },
        "id": "5lp16DhP7UJ8",
        "outputId": "c88251fa-8927-4b14-c1ab-bab525201338"
      },
      "source": [
        "import numpy as np\n",
        "\n",
        "def f(x):\n",
        "  return 1/(1+x)\n",
        "\n",
        "#input section\n",
        "a=0\n",
        "b=1\n",
        "n=10\n",
        "# simpson algo\n",
        "def odd_select(x):\n",
        "  m=0\n",
        "  for i in range (1,n,2):\n",
        "    m=m+x[i]\n",
        "  return m\n",
        "\n",
        "def even_select(x):\n",
        "  m=0\n",
        "  for i in range (2,n,2):\n",
        "    m=m+x[i]\n",
        "  return m\n",
        "\n",
        "#input section\n",
        "\n",
        "h=(b-a)/n\n",
        "\n",
        "def array():\n",
        "  arr=[]\n",
        "  for i in range (n+1):\n",
        "    k=a+h*i\n",
        "    f(k)\n",
        "    print(f'y{i}= { f(k)}')\n",
        "    arr=np.append(arr,f(k))\n",
        "  print(arr)\n",
        "  return arr\n",
        "\n",
        "\n",
        "\n",
        "#print(arr[0],arr[n],r1,r2)\n",
        "\n",
        "result= h/3*(arr[0]+arr[n]+4*odd_select(arr)+2*even_select(arr))\n",
        "print(f'integration {result}')\n",
        "\n"
      ],
      "execution_count": null,
      "outputs": [
        {
          "output_type": "stream",
          "text": [
            "integration 0.6931502306889303\n"
          ],
          "name": "stdout"
        }
      ]
    },
    {
      "cell_type": "markdown",
      "metadata": {
        "id": "5s6UWbBR1sor"
      },
      "source": [
        "# Euler IVP method"
      ]
    },
    {
      "cell_type": "code",
      "metadata": {
        "colab": {
          "base_uri": "https://localhost:8080/"
        },
        "id": "4kfCXSlK3iYc",
        "outputId": "b00ea678-01f6-4a9b-ae40-28cf5e116730"
      },
      "source": [
        "def f(x,y):\n",
        "  return x+y\n",
        "\n",
        "\n",
        "#initial value\n",
        "\n",
        "def euler(x,y,xf,n):\n",
        "  h=(xf-x)/n\n",
        "  for i in range (n+1):\n",
        "    print(f'x= {x} , y= {y}')\n",
        "    y_=f(x,y)*h+y\n",
        "    y=y_\n",
        "    x=x+h\n",
        "\n",
        "euler(0,1,0.3,5)\n",
        "  \n",
        "\n",
        "  \n",
        "\n",
        "\n",
        "\n"
      ],
      "execution_count": null,
      "outputs": [
        {
          "output_type": "stream",
          "text": [
            "x= 0 , y= 1\n",
            "x= 0.06 , y= 1.06\n",
            "x= 0.12 , y= 1.1272\n",
            "x= 0.18 , y= 1.202032\n",
            "x= 0.24 , y= 1.28495392\n",
            "x= 0.3 , y= 1.3764511552\n"
          ],
          "name": "stdout"
        }
      ]
    },
    {
      "cell_type": "code",
      "metadata": {
        "id": "W9HlZlxB_vMX"
      },
      "source": [
        ""
      ],
      "execution_count": null,
      "outputs": []
    },
    {
      "cell_type": "markdown",
      "metadata": {
        "id": "OcgoECiJsAhI"
      },
      "source": [
        "# Runge Kutta 4"
      ]
    },
    {
      "cell_type": "code",
      "metadata": {
        "colab": {
          "base_uri": "https://localhost:8080/"
        },
        "id": "J9NEE9RXsEo7",
        "outputId": "a47ab1ae-90e0-4f9a-c8c7-667514c08ec1"
      },
      "source": [
        "def f(x,y):\n",
        "  return x+y\n",
        "\n",
        "\n",
        "def rk4(x,y,xf,n):\n",
        "  h=(xf-x)/n\n",
        "  for i in range (n+1):\n",
        "    \n",
        "    print(f'x= {x}, y= {y}')\n",
        "    k1=h*f(x,y)\n",
        "    k2=h*f(x+(h/2),y+(k1/2))\n",
        "    k3=h*f(x+(h/2),y+(k2/2))\n",
        "    k4=h*f(x+h,y+k3)\n",
        "    k=(k1+2*k2+2*k3+k4)/6\n",
        "    y_=y+k\n",
        "    y=y_\n",
        "    x=x+h\n",
        "\n",
        "rk4(0,1,0.3,3)"
      ],
      "execution_count": null,
      "outputs": [
        {
          "output_type": "stream",
          "text": [
            "x= 0, y= 1\n",
            "x= 0.09999999999999999, y= 1.1103416666666666\n",
            "x= 0.19999999999999998, y= 1.2428051417013888\n",
            "x= 0.3, y= 1.3997169941250753\n"
          ],
          "name": "stdout"
        }
      ]
    },
    {
      "cell_type": "code",
      "metadata": {
        "id": "3Gu6V_cduKmS"
      },
      "source": [
        ""
      ],
      "execution_count": null,
      "outputs": []
    },
    {
      "cell_type": "markdown",
      "metadata": {
        "id": "_ucvd1uXuLIm"
      },
      "source": [
        "# shooting method"
      ]
    },
    {
      "cell_type": "code",
      "metadata": {
        "colab": {
          "base_uri": "https://localhost:8080/"
        },
        "id": "ZcIfGChtsFOO",
        "outputId": "047a7b08-5d7d-4d86-eec2-80b64c2a7d30"
      },
      "source": [
        "pip install numpy"
      ],
      "execution_count": null,
      "outputs": [
        {
          "output_type": "stream",
          "text": [
            "Requirement already satisfied: numpy in /usr/local/lib/python3.6/dist-packages (1.18.5)\n"
          ],
          "name": "stdout"
        }
      ]
    },
    {
      "cell_type": "code",
      "metadata": {
        "id": "Y8wvhzoh04hR",
        "colab": {
          "base_uri": "https://localhost:8080/"
        },
        "outputId": "1e72d644-f83c-4c62-b116-d4903638a0f0"
      },
      "source": [
        "import random \n",
        "\n",
        "#input section\n",
        "def f1(x,y,z):\n",
        "  return z        #y'=z\n",
        "def f2(x,y,z):\n",
        "  return 2*y+8*x*(9-x)  # y''=2y+8x(9-x)\n",
        "\n",
        "def inerpol(p1,p0,q1,q0,yf):\n",
        "  return p0+((p1-p0)/(q1-q0))*(yf-q0)\n",
        "\n",
        "def iter(x,y,xf,yf,n,z):\n",
        "  h=(xf-x)/n\n",
        "\n",
        "  for i in range(n):\n",
        "    #print(x,y,z)\n",
        "    y_=y+f1(x,y,z)*h\n",
        "    z_=z+f2(x,y,z)*h\n",
        "    x=x+h\n",
        "    y=y_\n",
        "    z=z_\n",
        "  #print(x,y)\n",
        "  return y\n",
        "\n",
        "#first guess of z\n",
        "z=random.randint(-10,10)\n",
        "q0=iter(0,0,9,0,3,z)\n",
        "p0=z\n",
        "print(p0,q0)\n",
        "\n",
        "#second guess of z\n",
        "z=random.randint(-10,10)\n",
        "q1=iter(0,0,9,0,3,z)\n",
        "p1=z\n",
        "print(p1,q1)\n",
        "\n",
        "z=inerpol(p1,p0,q1,q0,0)\n",
        "print(f'dy/dx={z},y={iter(0,0,9,0,3,z)}')"
      ],
      "execution_count": null,
      "outputs": [
        {
          "output_type": "stream",
          "text": [
            "-6 918.0\n",
            "-10 666.0\n",
            "dy/dx=-20.57142857142857,y=1.2789769243681803e-13\n"
          ],
          "name": "stdout"
        }
      ]
    }
  ]
}